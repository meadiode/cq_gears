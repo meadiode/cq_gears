{
 "cells": [
  {
   "cell_type": "code",
   "execution_count": null,
   "id": "9e9f631a-9024-4418-b253-1b8d53f6b29a",
   "metadata": {},
   "outputs": [],
   "source": [
    "import json\n",
    "import cadquery as cq\n",
    "from jupyter_cadquery import set_defaults, open_viewer, show\n",
    "\n",
    "set_defaults(display='sidecar', axes=False, axes0=True, grid=(True, True, True),\n",
    "             default_color='lightgrey', tools=True, ortho=True)\n",
    "\n",
    "open_viewer('Gears')\n",
    "\n",
    "import cq_gears"
   ]
  },
  {
   "cell_type": "code",
   "execution_count": null,
   "id": "2164e67e-5201-4057-b7c8-bdd6699f33e0",
   "metadata": {},
   "outputs": [],
   "source": [
    "cases = []\n",
    "\n",
    "def make_test_case(cls_name, **kv_args):\n",
    "    cls = getattr(cq_gears, cls_name)\n",
    "    gear = cls(**kv_args)\n",
    "    \n",
    "    body = gear.build()\n",
    "    \n",
    "    vol = body.Volume()\n",
    "    bb = body.BoundingBox()\n",
    "    \n",
    "    print(f'volume: {vol:.3f}; '\n",
    "          f'bbox: {bb.xlen:.3f}, {bb.ylen:.3f}, {bb.zlen:.3f}')\n",
    "    print(f'Body is valid: {body.isValid()}')\n",
    "    \n",
    "    expected = {\n",
    "        'volume': vol,\n",
    "        'bbox': (bb.xlen, bb.ylen, bb.zlen)\n",
    "    }\n",
    "    \n",
    "    case = {\n",
    "        'class': cls_name,\n",
    "        'args': kv_args,\n",
    "        'expected': expected,\n",
    "    }\n",
    "    \n",
    "    cases.append(case)\n",
    "    \n",
    "    return body"
   ]
  },
  {
   "cell_type": "code",
   "execution_count": null,
   "id": "868b7972-65de-41a0-9ca9-ca28c8428b1e",
   "metadata": {},
   "outputs": [],
   "source": [
    "make_test_case('SpurGear', module=1.0, teeth_number=5, width=10.0,\n",
    "               bore_d=1.0, chamfer=0.5)"
   ]
  },
  {
   "cell_type": "code",
   "execution_count": null,
   "id": "17896d3a-29a3-4351-ad40-ca4e28c912d7",
   "metadata": {},
   "outputs": [],
   "source": [
    "make_test_case('SpurGear', module=1.0, teeth_number=17, width=5.0,\n",
    "               helix_angle=15.0, bore_d=3.0, chamfer=0.5,\n",
    "               hub_d=6.0, hub_length=2.0,\n",
    "               recess_d=13.0, recess=1.0)"
   ]
  },
  {
   "cell_type": "code",
   "execution_count": null,
   "id": "a1c7633f-ecf7-4a28-a344-e8f4097aaa33",
   "metadata": {},
   "outputs": [],
   "source": [
    "make_test_case('SpurGear', module=1.0, teeth_number=42, width=8.0,\n",
    "               helix_angle=35.0, bore_d=5.0, chamfer=0.5,\n",
    "               hub_d=12.0, hub_length=5.0,\n",
    "               recess_d=36.0, recess=3.0,\n",
    "               n_spokes=5, spoke_width=3.0, spokes_od=32.0, spokes_id=16.0,\n",
    "               spoke_fillet=1.0)"
   ]
  },
  {
   "cell_type": "code",
   "execution_count": null,
   "id": "a267e7c4-32dd-4c6d-884f-7c0349acbfc3",
   "metadata": {},
   "outputs": [],
   "source": [
    "make_test_case('SpurGear', module=1.0, teeth_number=192, width=20.0,\n",
    "               helix_angle=-40.0, bore_d=18.0, chamfer=2.0,\n",
    "               hub_d=46.0, hub_length=20.0,\n",
    "               recess_d=180.0, recess=10.0,\n",
    "               n_spokes=8, spoke_width=12.0, spokes_od=170.0, spokes_id=60.0,\n",
    "               spoke_fillet=4.0)"
   ]
  },
  {
   "cell_type": "code",
   "execution_count": null,
   "id": "3d1b00f4-964c-4369-8ebd-448bc4ec2bfb",
   "metadata": {},
   "outputs": [],
   "source": [
    "make_test_case('SpurGear', module=1.0, teeth_number=40, width=8.0,\n",
    "               helix_angle=35.0, bore_d=5.0, chamfer=0.5,\n",
    "               hub_d=12.0, hub_length=5.0,\n",
    "               recess_d=34.0, recess=3.0,\n",
    "               n_spokes=3, spoke_width=8.0, spokes_od=32.0, spokes_id=16.0,\n",
    "               spoke_fillet=3.0,\n",
    "               missing_teeth=((0, 10), (20, 30)))"
   ]
  },
  {
   "cell_type": "code",
   "execution_count": null,
   "id": "4a706f86-e0f7-4212-970c-11d64b645536",
   "metadata": {},
   "outputs": [],
   "source": [
    "make_test_case('HerringboneGear', module=2.0, teeth_number=60, width=16.0,\n",
    "               helix_angle=-30.0, bore_d=14.0, chamfer=1.5,\n",
    "               hub_d=34.0, hub_length=20.0,\n",
    "               recess_d=105.0, recess=8.0,\n",
    "               n_spokes=5, spoke_width=10.0, spokes_od=100.0, spokes_id=40.0,\n",
    "               spoke_fillet=5.0)"
   ]
  },
  {
   "cell_type": "code",
   "execution_count": null,
   "id": "dcc77613-98c0-47f0-ad3e-de7647bc2b6f",
   "metadata": {},
   "outputs": [],
   "source": [
    "make_test_case('HerringboneGear', module=2.0, teeth_number=63, width=16.0,\n",
    "               helix_angle=-30.0, bore_d=14.0, chamfer=1.5,\n",
    "               hub_d=34.0, hub_length=4.0,\n",
    "               recess_d=105.0, recess=8.0,\n",
    "               n_spokes=3, spoke_width=20.0, spokes_od=100.0, spokes_id=40.0,\n",
    "               spoke_fillet=10.0,\n",
    "               missing_teeth=((0, 2), (20, 50)))"
   ]
  },
  {
   "cell_type": "code",
   "execution_count": null,
   "id": "4fa5f4c3-a1b1-4112-9c81-4e5375dd3c84",
   "metadata": {},
   "outputs": [],
   "source": [
    "make_test_case('SpurGear', module=1.0, teeth_number=29, width=100.0,\n",
    "               helix_angle=45.0, bore_d=5.0, chamfer=0.5,\n",
    "               hub_d=10.0, recess_d=25.0, recess=1.0)"
   ]
  },
  {
   "cell_type": "code",
   "execution_count": null,
   "id": "c296de23-86ac-455c-abf7-a5a7a2061dd8",
   "metadata": {},
   "outputs": [],
   "source": [
    "make_test_case('BevelGear', module=1.0, teeth_number=16, cone_angle=45.0,\n",
    "               face_width=5.0, bore_d=3.0)"
   ]
  },
  {
   "cell_type": "code",
   "execution_count": null,
   "id": "ce75ac3e-4457-4830-abd5-8ac0cbed9ac0",
   "metadata": {},
   "outputs": [],
   "source": [
    "make_test_case('BevelGear', module=1.0, teeth_number=54, cone_angle=65.0,\n",
    "               face_width=15.0, bore_d=8.0)"
   ]
  },
  {
   "cell_type": "code",
   "execution_count": null,
   "id": "5750d2cf-ef16-4fed-82a9-15c95236cd46",
   "metadata": {},
   "outputs": [],
   "source": [
    "make_test_case('BevelGear', module=1.0, teeth_number=120, cone_angle=67.0,\n",
    "               face_width=15.0, bore_d=80.0)"
   ]
  },
  {
   "cell_type": "code",
   "execution_count": null,
   "id": "9bece706-3b3e-46df-9dff-bc05cf3e72b3",
   "metadata": {},
   "outputs": [],
   "source": [
    "make_test_case('BevelGear', module=1.0, teeth_number=19, cone_angle=45.0,\n",
    "               helix_angle=30.0, face_width=5.0, bore_d=3.0)"
   ]
  },
  {
   "cell_type": "code",
   "execution_count": null,
   "id": "021b4d6c-67db-4d10-8ee1-fb4fe3d7ce1e",
   "metadata": {},
   "outputs": [],
   "source": [
    "make_test_case('BevelGear', module=1.0, teeth_number=58, cone_angle=65.0,\n",
    "               helix_angle=-35.0, face_width=15.0, bore_d=8.0)"
   ]
  },
  {
   "cell_type": "code",
   "execution_count": null,
   "id": "d0cef959-d793-492d-9158-be93ac54049c",
   "metadata": {},
   "outputs": [],
   "source": [
    "make_test_case('BevelGear', module=1.0, teeth_number=138, cone_angle=67.0,\n",
    "               helix_angle=42.0, face_width=15.0, bore_d=88.0)"
   ]
  },
  {
   "cell_type": "code",
   "execution_count": null,
   "id": "c8f8581c-6d6b-4383-bd78-47e012a9ba38",
   "metadata": {},
   "outputs": [],
   "source": [
    "make_test_case('RingGear', module=1.0, teeth_number=19, width=6.0,\n",
    "               rim_width=3.0, chamfer=0.5)"
   ]
  },
  {
   "cell_type": "code",
   "execution_count": null,
   "id": "a6e80436-58a2-4344-86c0-051d1ed3328b",
   "metadata": {},
   "outputs": [],
   "source": [
    "make_test_case('RingGear', module=2.5, teeth_number=44, width=16.0,\n",
    "               helix_angle=30.0, rim_width=12.0, chamfer=0.8)"
   ]
  },
  {
   "cell_type": "code",
   "execution_count": null,
   "id": "69f9df10-f6b4-4a44-ad17-0822703ba31e",
   "metadata": {},
   "outputs": [],
   "source": [
    "make_test_case('RingGear', module=3.0, teeth_number=154, width=30.0,\n",
    "               helix_angle=-55.0, rim_width=40.0, chamfer=1.5)"
   ]
  },
  {
   "cell_type": "code",
   "execution_count": null,
   "id": "33ebf0b6-cf65-4a99-8c24-0de4eeda953d",
   "metadata": {},
   "outputs": [],
   "source": [
    "make_test_case('HerringboneRingGear', module=2.0, teeth_number=42, width=16.0,\n",
    "               helix_angle=28.0, rim_width=12.0, chamfer=1.0)"
   ]
  },
  {
   "cell_type": "code",
   "execution_count": null,
   "id": "2e752b9c-c8b7-4073-9941-f0aaa6be3156",
   "metadata": {},
   "outputs": [],
   "source": [
    "make_test_case('HerringboneRingGear', module=3.0, teeth_number=220, width=30.0,\n",
    "               helix_angle=-32.0, rim_width=20.0, chamfer=2.0)"
   ]
  },
  {
   "cell_type": "code",
   "execution_count": null,
   "id": "0c511304-5ce4-49b6-9f30-003abd65007e",
   "metadata": {},
   "outputs": [],
   "source": [
    "make_test_case('RingGear', module=2.0, teeth_number=48, width=200.0,\n",
    "               helix_angle=45.0, rim_width=12.0, chamfer=1.0)"
   ]
  },
  {
   "cell_type": "code",
   "execution_count": null,
   "id": "a7ebddbd-9baf-4871-a1c8-082723cb8cc9",
   "metadata": {},
   "outputs": [],
   "source": [
    "make_test_case('Worm', module=1.0, lead_angle=5.0, n_threads=2, length=40.0,\n",
    "               bore_d=10.0)"
   ]
  },
  {
   "cell_type": "code",
   "execution_count": null,
   "id": "0fa0072c-5b26-4127-af1f-4fb3e96d5348",
   "metadata": {},
   "outputs": [],
   "source": [
    "make_test_case('Worm', module=2.0, lead_angle=7.0, n_threads=1, length=90.0,\n",
    "               bore_d=8.0)"
   ]
  },
  {
   "cell_type": "code",
   "execution_count": null,
   "id": "f5123e34-8bd6-4570-9890-887cd13df67e",
   "metadata": {},
   "outputs": [],
   "source": [
    "make_test_case('Worm', module=3.0, lead_angle=15.0, n_threads=6, length=150.0,\n",
    "               bore_d=10.0)"
   ]
  },
  {
   "cell_type": "code",
   "execution_count": null,
   "id": "86157797-b92f-4215-88e7-bc5d561defa7",
   "metadata": {},
   "outputs": [],
   "source": [
    "make_test_case('RackGear', module=1.0, length=200.0, width=10.0, height=4.0)"
   ]
  },
  {
   "cell_type": "code",
   "execution_count": null,
   "id": "383b4273-dcc5-407e-b4da-1e98dc7565b4",
   "metadata": {},
   "outputs": [],
   "source": [
    "make_test_case('RackGear', module=2.0, length=180.0, width=20.0, height=6.0,\n",
    "               helix_angle=15.0)"
   ]
  },
  {
   "cell_type": "code",
   "execution_count": null,
   "id": "e18cb1a1-1ed9-4f4e-8913-c37d85277322",
   "metadata": {},
   "outputs": [],
   "source": [
    "make_test_case('RackGear', module=2.0, length=300.0, width=20.0, height=6.0,\n",
    "               helix_angle=45.0)"
   ]
  },
  {
   "cell_type": "code",
   "execution_count": null,
   "id": "61edf1be-2fb9-4fff-b471-1b77c9556427",
   "metadata": {},
   "outputs": [],
   "source": [
    "make_test_case('RackGear', module=3.5, length=300.0, width=20.0, height=18.0,\n",
    "               helix_angle=-60.0)"
   ]
  },
  {
   "cell_type": "code",
   "execution_count": null,
   "id": "76113af3-6831-43a9-a912-914e87458af2",
   "metadata": {},
   "outputs": [],
   "source": [
    "make_test_case('HerringboneRackGear', module=1.0, length=100.0, width=12.0,\n",
    "               height=6.0, helix_angle=29.0)"
   ]
  },
  {
   "cell_type": "code",
   "execution_count": null,
   "id": "d5213d72-a2b9-4f8d-bbbd-b2faf75b32c4",
   "metadata": {},
   "outputs": [],
   "source": [
    "make_test_case('HerringboneRackGear', module=2.0, length=400.0, width=30.0,\n",
    "               height=20.0, helix_angle=-50.0)"
   ]
  },
  {
   "cell_type": "code",
   "execution_count": null,
   "id": "f7e0e2d3-de13-4c20-b992-0486007c0d53",
   "metadata": {},
   "outputs": [],
   "source": [
    "make_test_case('CrossedHelicalGear', module=1.0, teeth_number=23, width=12.0,\n",
    "               helix_angle=31.0, bore_d=3.0, chamfer=0.5,\n",
    "               hub_d=8.0, hub_length=2.0,\n",
    "               recess_d=17.0, recess=2.0)"
   ]
  },
  {
   "cell_type": "code",
   "execution_count": null,
   "id": "dd05e32d-72cc-427e-ab72-9bad683ee493",
   "metadata": {},
   "outputs": [],
   "source": [
    "make_test_case('CrossedHelicalGear', module=1.0, teeth_number=32, width=40.0,\n",
    "               helix_angle=45.0, bore_d=5.0, chamfer=1.5,\n",
    "               hub_d=16.0, hub_length=2.0,\n",
    "               recess_d=38.0, recess=2.0)"
   ]
  },
  {
   "cell_type": "code",
   "execution_count": null,
   "id": "e653721c-384d-4e7e-b2f9-e48b183a4d41",
   "metadata": {},
   "outputs": [],
   "source": [
    "make_test_case('GloboidWorm', module=1.0, lead_angle=5.0, n_threads=1,\n",
    "               gear_n_teeth=43, arc_angle=90.0, bore_d=4.0, trim=2.0)"
   ]
  },
  {
   "cell_type": "code",
   "execution_count": null,
   "id": "582d9971-ae4b-4896-9abe-3fc16e1c7143",
   "metadata": {},
   "outputs": [],
   "source": [
    "make_test_case('GloboidWorm', module=2.0, lead_angle=30.0, n_threads=5,\n",
    "               gear_n_teeth=103, arc_angle=79.0, bore_d=8.0, trim=5.0)"
   ]
  },
  {
   "cell_type": "code",
   "execution_count": null,
   "id": "180d3d40-8d4f-4167-b642-38049817b65a",
   "metadata": {},
   "outputs": [],
   "source": [
    "make_test_case('GloboidWorm', module=3.0, lead_angle=57.0, n_threads=9,\n",
    "               gear_n_teeth=80, arc_angle=60.0, bore_d=9.0, trim=3.0)"
   ]
  },
  {
   "cell_type": "code",
   "execution_count": null,
   "id": "5c6a04c1-9820-4cf8-a3b8-da0797cb2c84",
   "metadata": {},
   "outputs": [],
   "source": [
    "\n",
    "with open('./regression_test_cases.json', 'w') as file:\n",
    "    file.write(json.dumps(cases))\n"
   ]
  },
  {
   "cell_type": "code",
   "execution_count": null,
   "id": "131927f0-d8dc-41f0-8034-286625e21e54",
   "metadata": {},
   "outputs": [],
   "source": []
  }
 ],
 "metadata": {
  "kernelspec": {
   "display_name": "Python 3",
   "language": "python",
   "name": "python3"
  },
  "language_info": {
   "codemirror_mode": {
    "name": "ipython",
    "version": 3
   },
   "file_extension": ".py",
   "mimetype": "text/x-python",
   "name": "python",
   "nbconvert_exporter": "python",
   "pygments_lexer": "ipython3",
   "version": "3.9.7"
  }
 },
 "nbformat": 4,
 "nbformat_minor": 5
}
