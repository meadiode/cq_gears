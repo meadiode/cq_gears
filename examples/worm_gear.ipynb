{
 "cells": [
  {
   "cell_type": "code",
   "execution_count": null,
   "id": "09a6503c-bad3-4210-bf79-338e92da4603",
   "metadata": {},
   "outputs": [],
   "source": [
    "import cadquery as cq\n",
    "from jupyter_cadquery import show, set_defaults\n",
    "\n",
    "set_defaults(axes=False, axes0=True, grid=(True, True, True),\n",
    "             default_color='lightgrey', tools=False)\n",
    "\n",
    "from cq_gears import Worm, GloboidWorm"
   ]
  },
  {
   "cell_type": "code",
   "execution_count": null,
   "id": "2aa716f9-ff0f-4142-b105-0f5bb553b8e8",
   "metadata": {},
   "outputs": [],
   "source": [
    "worm = Worm(module=1.0, lead_angle=7.0, n_threads=2, length=60.0)\n",
    "worm2 = Worm(module=1.0, lead_angle=-7.0, n_threads=2, length=60.0)\n",
    "\n",
    "wp = (cq.Workplane('XY')\n",
    "      .gear(worm, bore_d=8.0)\n",
    "      .moveTo(0.0, 40.0)\n",
    "      .addGear(worm2, bore_d=8.0))\n",
    "\n",
    "show(wp)"
   ]
  },
  {
   "cell_type": "code",
   "execution_count": null,
   "id": "9cc99f3e-af5d-4a72-bec6-3ce213406664",
   "metadata": {},
   "outputs": [],
   "source": [
    "globoid = GloboidWorm(module=1.0, lead_angle=5.0, n_threads=1,\n",
    "                      gear_n_teeth=42, arc_angle=90.0)\n",
    "\n",
    "wp = (cq.Workplane('XY')\n",
    "      .gear(globoid, bore_d=4.0))\n",
    "\n",
    "show(wp)"
   ]
  },
  {
   "cell_type": "code",
   "execution_count": null,
   "id": "d3a944e2-a799-451f-adcb-7062514ba54f",
   "metadata": {},
   "outputs": [],
   "source": []
  }
 ],
 "metadata": {
  "kernelspec": {
   "display_name": "Python 3",
   "language": "python",
   "name": "python3"
  },
  "language_info": {
   "codemirror_mode": {
    "name": "ipython",
    "version": 3
   },
   "file_extension": ".py",
   "mimetype": "text/x-python",
   "name": "python",
   "nbconvert_exporter": "python",
   "pygments_lexer": "ipython3",
   "version": "3.9.7"
  }
 },
 "nbformat": 4,
 "nbformat_minor": 5
}
