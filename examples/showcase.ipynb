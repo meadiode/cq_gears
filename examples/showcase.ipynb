{
 "cells": [
  {
   "cell_type": "code",
   "execution_count": null,
   "id": "38592131-304e-4727-8c08-f67444e4552a",
   "metadata": {},
   "outputs": [],
   "source": [
    "import cadquery as cq\n",
    "import numpy as np\n",
    "from jupyter_cadquery import show, set_defaults, open_viewer\n",
    "\n",
    "set_defaults(axes=False, axes0=True, grid=(True, True, True),\n",
    "             default_color='lightgrey', tools=True, ortho=True)\n",
    "\n",
    "from cq_gears import (SpurGear, RingGear, HerringboneGear, CustomTwistGear,\n",
    "                      HerringboneRingGear, SpurGear, BevelGear, BevelGearPair,\n",
    "                      PlanetaryGearset, HerringbonePlanetaryGearset)\n",
    "\n",
    "open_viewer('Gears')"
   ]
  },
  {
   "cell_type": "markdown",
   "id": "5c671f3d-12ef-4de2-bb4c-28d47b6227da",
   "metadata": {},
   "source": [
    "## Show different gears in one space"
   ]
  },
  {
   "cell_type": "code",
   "execution_count": null,
   "id": "788dfe88-5c34-492d-90fe-02aca96022cb",
   "metadata": {},
   "outputs": [],
   "source": [
    "Nx = 3\n",
    "Ny = 3\n",
    "spacing = 80.0\n",
    "\n",
    "gears = \\\n",
    "[\n",
    "    # Simple spur gear\n",
    "    SpurGear(module=2.0, teeth_number=20, width=10.0, bore_d=10.0),\n",
    "    \n",
    "    # Helical gear\n",
    "    SpurGear(module=1.4, teeth_number=29, width=12.0, helix_angle=-40.0,\n",
    "             bore_d=15.0),\n",
    "    \n",
    "    # Herringbone gear\n",
    "    HerringboneGear(module=1.0, teeth_number=42, width=10.0, helix_angle=-20.0,\n",
    "                    bore_d=10.0),\n",
    "\n",
    "    # Custom twist gear\n",
    "    CustomTwistGear(module=2.0, teeth_number=10, width=10.0,\n",
    "                    twist_function=lambda t: np.sin(2*np.pi * t), twist_angle=10.0,\n",
    "                    bore_d=10.0),\n",
    "\n",
    "    # Fancy helical gear\n",
    "    SpurGear(module=1.0, teeth_number=60, width=8.0, helix_angle=45.0,\n",
    "             bore_d=10.0, hub_d=16.0, hub_length=10.0, recess_d=52.0,\n",
    "             recess=3.0, n_spokes=5, spoke_width=6.0, spoke_fillet=4.0,\n",
    "             spokes_id=23.0, spokes_od=48.0),\n",
    "    \n",
    "    # Planetary gearset with 3 planets\n",
    "    PlanetaryGearset(module=1.0, sun_teeth_number=12, planet_teeth_number=18,\n",
    "                     width=10.0, rim_width=3.0, n_planets=3, bore_d=6.0),\n",
    "    \n",
    "    # Herringbone ring gear\n",
    "    HerringboneRingGear(module=1.0, teeth_number=60, width=14.0, rim_width=5.0,\n",
    "                        helix_angle=30.0),\n",
    "    \n",
    "    # Straight bevel gear\n",
    "    BevelGear(module=5.0, teeth_number=11, cone_angle=45.0, face_width=15.0,\n",
    "              bore_d=15.0, trim_top=False),\n",
    "    \n",
    "    # Helical bevel gear\n",
    "    BevelGear(module=3.0, teeth_number=19, cone_angle=45.0, face_width=21.0,\n",
    "              helix_angle=30.0, bore_d=18.0),\n",
    "    \n",
    "    # Helical bevel gear pair\n",
    "    BevelGearPair(module=2.0, gear_teeth=40, pinion_teeth=20, face_width=12.0,\n",
    "                  helix_angle=42.0, axis_angle=90.0, bore_d=44.0,\n",
    "                  pinion_build_args={'bore_d': 12.0}),\n",
    "]\n",
    "\n",
    "showcase = cq.Assembly(name='gears')\n",
    "\n",
    "for i, g in enumerate(gears):\n",
    "    ix = i % Ny\n",
    "    iy = i // Nx\n",
    "    \n",
    "    showcase.add(g.build(),\n",
    "                 name=f'{type(g).__name__}_{i}',\n",
    "                 loc=cq.Location(cq.Vector(spacing * ix, spacing * iy, 0.0)))\n",
    "\n",
    "show(showcase)"
   ]
  },
  {
   "cell_type": "code",
   "execution_count": null,
   "id": "7ade62e4-f00a-40ee-9f40-aafe1755c4fc",
   "metadata": {},
   "outputs": [],
   "source": []
  }
 ],
 "metadata": {
  "kernelspec": {
   "display_name": "Python 3",
   "language": "python",
   "name": "python3"
  },
  "language_info": {
   "codemirror_mode": {
    "name": "ipython",
    "version": 3
   },
   "file_extension": ".py",
   "mimetype": "text/x-python",
   "name": "python",
   "nbconvert_exporter": "python",
   "pygments_lexer": "ipython3",
   "version": "3.9.7"
  }
 },
 "nbformat": 4,
 "nbformat_minor": 5
}
